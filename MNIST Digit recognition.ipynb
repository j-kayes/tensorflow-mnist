{
 "cells": [
  {
   "cell_type": "code",
   "execution_count": 1,
   "metadata": {
    "scrolled": true
   },
   "outputs": [],
   "source": [
    "import os\n",
    "os.environ[\"TF_CPP_MIN_LOG_LEVEL\"]=\"3\"\n",
    "import tensorflow as tf"
   ]
  },
  {
   "cell_type": "code",
   "execution_count": 2,
   "metadata": {},
   "outputs": [
    {
     "name": "stdout",
     "output_type": "stream",
     "text": [
      "Extracting MNIST_data\\train-images-idx3-ubyte.gz\n",
      "Extracting MNIST_data\\train-labels-idx1-ubyte.gz\n",
      "Extracting MNIST_data\\t10k-images-idx3-ubyte.gz\n",
      "Extracting MNIST_data\\t10k-labels-idx1-ubyte.gz\n"
     ]
    }
   ],
   "source": [
    "old_v = tf.logging.get_verbosity()\n",
    "tf.logging.set_verbosity(tf.logging.ERROR)\n",
    "from tensorflow.examples.tutorials.mnist import input_data\n",
    "mnist = input_data.read_data_sets('MNIST_data', one_hot=True)\n",
    "tf.logging.set_verbosity(old_v)"
   ]
  },
  {
   "cell_type": "code",
   "execution_count": 3,
   "metadata": {},
   "outputs": [],
   "source": [
    "# For randomly generating weights in acordance to a truncated normal distribution:\n",
    "def init_weights(shape):\n",
    "    init_random_dist = tf.truncated_normal(shape,stddev=0.1)\n",
    "    return tf.Variable(init_random_dist)"
   ]
  },
  {
   "cell_type": "code",
   "execution_count": 4,
   "metadata": {},
   "outputs": [],
   "source": [
    "def init_bias(shape):\n",
    "    init_bias_vals = tf.constant(0.1,shape=shape)\n",
    "    return tf.Variable(init_bias_vals)"
   ]
  },
  {
   "cell_type": "code",
   "execution_count": 5,
   "metadata": {},
   "outputs": [],
   "source": [
    "def conv2d(x, W):\n",
    "    # x --> [batch, H, W, Channels]\n",
    "    # W --> [filter H, filter W, Channels In, Channels OUT]\n",
    "    # 'Same' == padding around edges with 0\n",
    "    return tf.nn.conv2d(x,W,strides=[1,1,1,1],padding='SAME')"
   ]
  },
  {
   "cell_type": "code",
   "execution_count": 6,
   "metadata": {},
   "outputs": [],
   "source": [
    "def max_pool_2by2(x):\n",
    "    #x -- > [batch,h,w,c]\n",
    "    # Max pool is applied over 2x2 group of pixels in the same batch and channel:\n",
    "    return tf.nn.max_pool(x,ksize=[1,2,2,1],strides=[1,2,2,1],padding='SAME')"
   ]
  },
  {
   "cell_type": "code",
   "execution_count": 7,
   "metadata": {},
   "outputs": [],
   "source": [
    "# CONVOLUTIONAL LAYER:\n",
    "def convolutional_layer(input_x,shape):\n",
    "    W = init_weights(shape)\n",
    "    b = init_bias([shape[3]])\n",
    "    return tf.nn.relu(conv2d(input_x,W)+b)"
   ]
  },
  {
   "cell_type": "code",
   "execution_count": 8,
   "metadata": {},
   "outputs": [],
   "source": [
    "# FULLY CONNECTED/DENSE:\n",
    "def normal_full_layer(input_layer,size):\n",
    "    input_size = int(input_layer.get_shape()[1])\n",
    "    W = init_weights([input_size,size])\n",
    "    b = init_bias([size])\n",
    "    \n",
    "    return tf.matmul(input_layer,W) + b"
   ]
  },
  {
   "cell_type": "code",
   "execution_count": 9,
   "metadata": {},
   "outputs": [],
   "source": [
    "# INPUT LAYER (array of 784 pixels):\n",
    "x = tf.placeholder(tf.float32,shape=[None,784])"
   ]
  },
  {
   "cell_type": "code",
   "execution_count": 10,
   "metadata": {},
   "outputs": [],
   "source": [
    "# We feed in the correct labels into y_true:\n",
    "y_true = tf.placeholder(tf.float32,shape=[None,10])"
   ]
  },
  {
   "cell_type": "code",
   "execution_count": 11,
   "metadata": {},
   "outputs": [],
   "source": [
    "# LAYERS:\n",
    "# Reshape 1D input to the original 28x28 images:\n",
    "x_image = tf.reshape(x,[-1,28,28, 1]) # WHY -1?\n"
   ]
  },
  {
   "cell_type": "code",
   "execution_count": 12,
   "metadata": {},
   "outputs": [],
   "source": [
    "# Creates a convolutional layer for our graph:\n",
    "# Each 5x5 group of pixels and 1 channel/colour generates 32 'features'\n",
    "convo_1 = convolutional_layer(x_image,shape=[5,5,1,32])\n",
    "convo_1_pooling = max_pool_2by2(convo_1) # Max pooling defined above"
   ]
  },
  {
   "cell_type": "code",
   "execution_count": 13,
   "metadata": {},
   "outputs": [],
   "source": [
    "# Each of the 32 features for the 5x5 group of pixels each generates 64 new 'features':\n",
    "#convo_2 = convolutional_layer(convo_1_pooling,shape=[5,5,32,64])\n",
    "#convo_2_pooling = max_pool_2by2(convo_2)"
   ]
  },
  {
   "cell_type": "code",
   "execution_count": 14,
   "metadata": {},
   "outputs": [],
   "source": [
    "convo_2_flat = tf.reshape(convo_1_pooling,[-1,6272])\n",
    "# Fully connected to a flat 512 layer:\n",
    "full_layer_one = tf.nn.relu(normal_full_layer(convo_2_flat,512))"
   ]
  },
  {
   "cell_type": "code",
   "execution_count": 15,
   "metadata": {},
   "outputs": [],
   "source": [
    "# DROPOUT\n",
    "# Probablity that the connection holds:\n",
    "hold_prob = tf.placeholder(tf.float32)\n",
    "# Dropout applied to final 512 values:\n",
    "full_one_dropout = tf.nn.dropout(full_layer_one,keep_prob=hold_prob)"
   ]
  },
  {
   "cell_type": "code",
   "execution_count": 16,
   "metadata": {},
   "outputs": [],
   "source": [
    "# Output are these 1024 values fully connected to the 10 possible outputs:\n",
    "y_pred = normal_full_layer(full_one_dropout,10)"
   ]
  },
  {
   "cell_type": "code",
   "execution_count": 17,
   "metadata": {},
   "outputs": [],
   "source": [
    "# Standard loss function for probability distributions:\n",
    "cross_entropy = tf.reduce_mean(tf.nn.softmax_cross_entropy_with_logits_v2(labels=y_true,logits=y_pred))"
   ]
  },
  {
   "cell_type": "code",
   "execution_count": 18,
   "metadata": {},
   "outputs": [],
   "source": [
    "# Optimizer: Adam has a varying learning rate:\n",
    "optimizer = tf.train.AdamOptimizer(learning_rate=0.001)\n",
    "train = optimizer.minimize(cross_entropy)"
   ]
  },
  {
   "cell_type": "code",
   "execution_count": 19,
   "metadata": {},
   "outputs": [],
   "source": [
    "init = tf.global_variables_initializer()"
   ]
  },
  {
   "cell_type": "code",
   "execution_count": 21,
   "metadata": {},
   "outputs": [
    {
     "name": "stdout",
     "output_type": "stream",
     "text": [
      "TEST ACCURACY AFTER STEP 100: \n",
      "0.8961\n",
      "\n",
      "\n",
      "TEST ACCURACY AFTER STEP 200: \n",
      "0.9268\n",
      "\n",
      "\n",
      "TEST ACCURACY AFTER STEP 300: \n",
      "0.9439\n",
      "\n",
      "\n",
      "TEST ACCURACY AFTER STEP 400: \n",
      "0.952\n",
      "\n",
      "\n",
      "TEST ACCURACY AFTER STEP 500: \n",
      "0.9621\n",
      "\n",
      "\n",
      "TEST ACCURACY AFTER STEP 600: \n",
      "0.9647\n",
      "\n",
      "\n",
      "TEST ACCURACY AFTER STEP 700: \n",
      "0.9668\n",
      "\n",
      "\n",
      "TEST ACCURACY AFTER STEP 800: \n",
      "0.9705\n",
      "\n",
      "\n",
      "TEST ACCURACY AFTER STEP 900: \n",
      "0.9727\n",
      "\n",
      "\n",
      "TEST ACCURACY AFTER STEP 1000: \n",
      "0.9752\n",
      "\n",
      "\n",
      "TEST ACCURACY AFTER STEP 1100: \n",
      "0.9761\n",
      "\n",
      "\n",
      "TEST ACCURACY AFTER STEP 1200: \n",
      "0.9761\n",
      "\n",
      "\n",
      "TEST ACCURACY AFTER STEP 1300: \n",
      "0.9799\n",
      "\n",
      "\n",
      "TEST ACCURACY AFTER STEP 1400: \n",
      "0.9801\n",
      "\n",
      "\n",
      "TEST ACCURACY AFTER STEP 1500: \n",
      "0.9819\n",
      "\n",
      "\n",
      "TEST ACCURACY AFTER STEP 1600: \n",
      "0.9816\n",
      "\n",
      "\n",
      "TEST ACCURACY AFTER STEP 1700: \n",
      "0.9823\n",
      "\n",
      "\n",
      "TEST ACCURACY AFTER STEP 1800: \n",
      "0.9819\n",
      "\n",
      "\n",
      "TEST ACCURACY AFTER STEP 1900: \n",
      "0.9838\n",
      "\n",
      "\n",
      "TEST ACCURACY AFTER STEP 2000: \n",
      "0.9818\n",
      "\n",
      "\n",
      "TEST ACCURACY AFTER STEP 2100: \n",
      "0.9849\n",
      "\n",
      "\n",
      "TEST ACCURACY AFTER STEP 2200: \n",
      "0.9816\n",
      "\n",
      "\n",
      "TEST ACCURACY AFTER STEP 2300: \n",
      "0.9843\n",
      "\n",
      "\n",
      "TEST ACCURACY AFTER STEP 2400: \n",
      "0.9816\n",
      "\n",
      "\n",
      "TEST ACCURACY AFTER STEP 2500: \n",
      "0.9847\n",
      "\n",
      "\n",
      "TEST ACCURACY AFTER STEP 2600: \n",
      "0.9847\n",
      "\n",
      "\n",
      "TEST ACCURACY AFTER STEP 2700: \n",
      "0.9828\n",
      "\n",
      "\n",
      "TEST ACCURACY AFTER STEP 2800: \n",
      "0.9838\n",
      "\n",
      "\n",
      "TEST ACCURACY AFTER STEP 2900: \n",
      "0.986\n",
      "\n",
      "\n",
      "TEST ACCURACY AFTER STEP 3000: \n",
      "0.9866\n",
      "\n",
      "\n"
     ]
    }
   ],
   "source": [
    "# Create Session:\n",
    "steps = 3000\n",
    "with tf.Session() as sess:\n",
    "    sess.run(init)\n",
    "    \n",
    "    for step in range(1, steps+1):\n",
    "        # TRAINING:\n",
    "        # train with 50 images at a time:\n",
    "        batch_x, correct_labels = mnist.train.next_batch(50) # Returns a tuple of 50 pixles(x) and correct labels for training\n",
    "        # Dropout probability of 0.5, to help prevent overfitting:\n",
    "        sess.run(train,feed_dict={x: batch_x,y_true: correct_labels, hold_prob:0.5})\n",
    "        \n",
    "        # Tests the current accuracy of the model after this many training steps:\n",
    "        if (step%100 == 0):\n",
    "            print(\"TEST ACCURACY AFTER STEP {}: \".format(step))\n",
    "            \n",
    "            # TESTING ACCURACY:\n",
    "            matches = tf.equal(tf.argmax(y_pred,1), tf.argmax(y_true,1))\n",
    "            acc = tf.reduce_mean(tf.cast(matches,tf.float32))\n",
    "            \n",
    "            print(sess.run(acc,feed_dict={x:mnist.test.images,y_true:mnist.test.labels,hold_prob:1.0}))\n",
    "            print('\\n')\n",
    "    "
   ]
  },
  {
   "cell_type": "markdown",
   "metadata": {},
   "source": [
    "# > 98.5 % accuracy for the full training set after 3000 training steps"
   ]
  },
  {
   "cell_type": "code",
   "execution_count": null,
   "metadata": {},
   "outputs": [],
   "source": []
  }
 ],
 "metadata": {
  "kernelspec": {
   "display_name": "Python 3",
   "language": "python",
   "name": "python3"
  },
  "language_info": {
   "codemirror_mode": {
    "name": "ipython",
    "version": 3
   },
   "file_extension": ".py",
   "mimetype": "text/x-python",
   "name": "python",
   "nbconvert_exporter": "python",
   "pygments_lexer": "ipython3",
   "version": "3.6.7"
  }
 },
 "nbformat": 4,
 "nbformat_minor": 2
}
